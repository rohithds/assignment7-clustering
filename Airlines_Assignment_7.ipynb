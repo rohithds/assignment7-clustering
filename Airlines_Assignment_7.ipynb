{
  "cells": [
    {
      "cell_type": "code",
      "execution_count": null,
      "id": "baaf2c3b",
      "metadata": {
        "id": "baaf2c3b"
      },
      "outputs": [],
      "source": [
        "import pandas as pd\n",
        "import numpy as np\n",
        "import matplotlib.pyplot as plt\n",
        "import scipy.cluster.hierarchy as sch\n",
        "from sklearn.cluster import AgglomerativeClustering\n",
        "from sklearn.preprocessing import MinMaxScaler"
      ]
    },
    {
      "cell_type": "code",
      "execution_count": null,
      "id": "da6a1466",
      "metadata": {
        "id": "da6a1466",
        "outputId": "046fb432-3e22-4188-c84d-034b39f14ff1"
      },
      "outputs": [
        {
          "data": {
            "text/html": [
              "<div>\n",
              "<style scoped>\n",
              "    .dataframe tbody tr th:only-of-type {\n",
              "        vertical-align: middle;\n",
              "    }\n",
              "\n",
              "    .dataframe tbody tr th {\n",
              "        vertical-align: top;\n",
              "    }\n",
              "\n",
              "    .dataframe thead th {\n",
              "        text-align: right;\n",
              "    }\n",
              "</style>\n",
              "<table border=\"1\" class=\"dataframe\">\n",
              "  <thead>\n",
              "    <tr style=\"text-align: right;\">\n",
              "      <th></th>\n",
              "      <th>ID#</th>\n",
              "      <th>Balance</th>\n",
              "      <th>Qual_miles</th>\n",
              "      <th>cc1_miles</th>\n",
              "      <th>cc2_miles</th>\n",
              "      <th>cc3_miles</th>\n",
              "      <th>Bonus_miles</th>\n",
              "      <th>Bonus_trans</th>\n",
              "      <th>Flight_miles_12mo</th>\n",
              "      <th>Flight_trans_12</th>\n",
              "      <th>Days_since_enroll</th>\n",
              "      <th>Award?</th>\n",
              "    </tr>\n",
              "  </thead>\n",
              "  <tbody>\n",
              "    <tr>\n",
              "      <th>0</th>\n",
              "      <td>1</td>\n",
              "      <td>28143</td>\n",
              "      <td>0</td>\n",
              "      <td>1</td>\n",
              "      <td>1</td>\n",
              "      <td>1</td>\n",
              "      <td>174</td>\n",
              "      <td>1</td>\n",
              "      <td>0</td>\n",
              "      <td>0</td>\n",
              "      <td>7000</td>\n",
              "      <td>0</td>\n",
              "    </tr>\n",
              "    <tr>\n",
              "      <th>1</th>\n",
              "      <td>2</td>\n",
              "      <td>19244</td>\n",
              "      <td>0</td>\n",
              "      <td>1</td>\n",
              "      <td>1</td>\n",
              "      <td>1</td>\n",
              "      <td>215</td>\n",
              "      <td>2</td>\n",
              "      <td>0</td>\n",
              "      <td>0</td>\n",
              "      <td>6968</td>\n",
              "      <td>0</td>\n",
              "    </tr>\n",
              "    <tr>\n",
              "      <th>2</th>\n",
              "      <td>3</td>\n",
              "      <td>41354</td>\n",
              "      <td>0</td>\n",
              "      <td>1</td>\n",
              "      <td>1</td>\n",
              "      <td>1</td>\n",
              "      <td>4123</td>\n",
              "      <td>4</td>\n",
              "      <td>0</td>\n",
              "      <td>0</td>\n",
              "      <td>7034</td>\n",
              "      <td>0</td>\n",
              "    </tr>\n",
              "    <tr>\n",
              "      <th>3</th>\n",
              "      <td>4</td>\n",
              "      <td>14776</td>\n",
              "      <td>0</td>\n",
              "      <td>1</td>\n",
              "      <td>1</td>\n",
              "      <td>1</td>\n",
              "      <td>500</td>\n",
              "      <td>1</td>\n",
              "      <td>0</td>\n",
              "      <td>0</td>\n",
              "      <td>6952</td>\n",
              "      <td>0</td>\n",
              "    </tr>\n",
              "    <tr>\n",
              "      <th>4</th>\n",
              "      <td>5</td>\n",
              "      <td>97752</td>\n",
              "      <td>0</td>\n",
              "      <td>4</td>\n",
              "      <td>1</td>\n",
              "      <td>1</td>\n",
              "      <td>43300</td>\n",
              "      <td>26</td>\n",
              "      <td>2077</td>\n",
              "      <td>4</td>\n",
              "      <td>6935</td>\n",
              "      <td>1</td>\n",
              "    </tr>\n",
              "  </tbody>\n",
              "</table>\n",
              "</div>"
            ],
            "text/plain": [
              "   ID#  Balance  Qual_miles  cc1_miles  cc2_miles  cc3_miles  Bonus_miles  \\\n",
              "0    1    28143           0          1          1          1          174   \n",
              "1    2    19244           0          1          1          1          215   \n",
              "2    3    41354           0          1          1          1         4123   \n",
              "3    4    14776           0          1          1          1          500   \n",
              "4    5    97752           0          4          1          1        43300   \n",
              "\n",
              "   Bonus_trans  Flight_miles_12mo  Flight_trans_12  Days_since_enroll  Award?  \n",
              "0            1                  0                0               7000       0  \n",
              "1            2                  0                0               6968       0  \n",
              "2            4                  0                0               7034       0  \n",
              "3            1                  0                0               6952       0  \n",
              "4           26               2077                4               6935       1  "
            ]
          },
          "execution_count": 5,
          "metadata": {},
          "output_type": "execute_result"
        }
      ],
      "source": [
        "air=pd.read_excel(\"C:/Users/mewit/Desktop/Data Science Notes/Assignmnets/7 - Clustering/EastWestAirlines.xlsx\",sheet_name='data')\n",
        "air.head()"
      ]
    },
    {
      "cell_type": "code",
      "execution_count": null,
      "id": "7ba327fa",
      "metadata": {
        "id": "7ba327fa",
        "outputId": "49238684-ccc6-43f0-e5c6-23ed52902d35"
      },
      "outputs": [
        {
          "name": "stdout",
          "output_type": "stream",
          "text": [
            "<class 'pandas.core.frame.DataFrame'>\n",
            "RangeIndex: 3999 entries, 0 to 3998\n",
            "Data columns (total 12 columns):\n",
            " #   Column             Non-Null Count  Dtype\n",
            "---  ------             --------------  -----\n",
            " 0   ID#                3999 non-null   int64\n",
            " 1   Balance            3999 non-null   int64\n",
            " 2   Qual_miles         3999 non-null   int64\n",
            " 3   cc1_miles          3999 non-null   int64\n",
            " 4   cc2_miles          3999 non-null   int64\n",
            " 5   cc3_miles          3999 non-null   int64\n",
            " 6   Bonus_miles        3999 non-null   int64\n",
            " 7   Bonus_trans        3999 non-null   int64\n",
            " 8   Flight_miles_12mo  3999 non-null   int64\n",
            " 9   Flight_trans_12    3999 non-null   int64\n",
            " 10  Days_since_enroll  3999 non-null   int64\n",
            " 11  Award?             3999 non-null   int64\n",
            "dtypes: int64(12)\n",
            "memory usage: 375.0 KB\n"
          ]
        }
      ],
      "source": [
        "# Checking the Data Types\n",
        "air.info()"
      ]
    },
    {
      "cell_type": "code",
      "execution_count": null,
      "id": "2484df92",
      "metadata": {
        "id": "2484df92",
        "outputId": "eff09d44-002f-4535-bd33-d3cc4da82ac0"
      },
      "outputs": [
        {
          "data": {
            "text/plain": [
              "ID#                  0\n",
              "Balance              0\n",
              "Qual_miles           0\n",
              "cc1_miles            0\n",
              "cc2_miles            0\n",
              "cc3_miles            0\n",
              "Bonus_miles          0\n",
              "Bonus_trans          0\n",
              "Flight_miles_12mo    0\n",
              "Flight_trans_12      0\n",
              "Days_since_enroll    0\n",
              "Award?               0\n",
              "dtype: int64"
            ]
          },
          "execution_count": 7,
          "metadata": {},
          "output_type": "execute_result"
        }
      ],
      "source": [
        "# Checking for null values\n",
        "air.isna().sum()"
      ]
    },
    {
      "cell_type": "code",
      "execution_count": null,
      "id": "e12c18c7",
      "metadata": {
        "id": "e12c18c7",
        "outputId": "3cab9b29-f730-4dd3-8840-189d1006575d"
      },
      "outputs": [
        {
          "data": {
            "text/plain": [
              "'id'"
            ]
          },
          "execution_count": 8,
          "metadata": {},
          "output_type": "execute_result"
        }
      ],
      "source": [
        "air.rename(columns={'ID#':'id'}, inplace=True)\n",
        "air.columns[0]"
      ]
    },
    {
      "cell_type": "code",
      "execution_count": null,
      "id": "1c87c10c",
      "metadata": {
        "id": "1c87c10c",
        "outputId": "6b53d7b2-7e93-4134-d3b0-8edd250d81a0"
      },
      "outputs": [
        {
          "data": {
            "text/plain": [
              "0"
            ]
          },
          "execution_count": 9,
          "metadata": {},
          "output_type": "execute_result"
        }
      ],
      "source": [
        "# Checking for duplicates\n",
        "air['id'].duplicated().sum()"
      ]
    },
    {
      "cell_type": "code",
      "execution_count": null,
      "id": "600c282f",
      "metadata": {
        "id": "600c282f",
        "outputId": "b1fdc638-6726-450a-cfec-e1fa3fa5efe1"
      },
      "outputs": [
        {
          "data": {
            "text/html": [
              "<div>\n",
              "<style scoped>\n",
              "    .dataframe tbody tr th:only-of-type {\n",
              "        vertical-align: middle;\n",
              "    }\n",
              "\n",
              "    .dataframe tbody tr th {\n",
              "        vertical-align: top;\n",
              "    }\n",
              "\n",
              "    .dataframe thead th {\n",
              "        text-align: right;\n",
              "    }\n",
              "</style>\n",
              "<table border=\"1\" class=\"dataframe\">\n",
              "  <thead>\n",
              "    <tr style=\"text-align: right;\">\n",
              "      <th></th>\n",
              "      <th>Balance</th>\n",
              "      <th>Qual_miles</th>\n",
              "      <th>cc1_miles</th>\n",
              "      <th>cc2_miles</th>\n",
              "      <th>cc3_miles</th>\n",
              "      <th>Bonus_miles</th>\n",
              "      <th>Bonus_trans</th>\n",
              "      <th>Flight_miles_12mo</th>\n",
              "      <th>Flight_trans_12</th>\n",
              "      <th>Days_since_enroll</th>\n",
              "      <th>Award?</th>\n",
              "    </tr>\n",
              "  </thead>\n",
              "  <tbody>\n",
              "    <tr>\n",
              "      <th>0</th>\n",
              "      <td>28143</td>\n",
              "      <td>0</td>\n",
              "      <td>1</td>\n",
              "      <td>1</td>\n",
              "      <td>1</td>\n",
              "      <td>174</td>\n",
              "      <td>1</td>\n",
              "      <td>0</td>\n",
              "      <td>0</td>\n",
              "      <td>7000</td>\n",
              "      <td>0</td>\n",
              "    </tr>\n",
              "    <tr>\n",
              "      <th>1</th>\n",
              "      <td>19244</td>\n",
              "      <td>0</td>\n",
              "      <td>1</td>\n",
              "      <td>1</td>\n",
              "      <td>1</td>\n",
              "      <td>215</td>\n",
              "      <td>2</td>\n",
              "      <td>0</td>\n",
              "      <td>0</td>\n",
              "      <td>6968</td>\n",
              "      <td>0</td>\n",
              "    </tr>\n",
              "    <tr>\n",
              "      <th>2</th>\n",
              "      <td>41354</td>\n",
              "      <td>0</td>\n",
              "      <td>1</td>\n",
              "      <td>1</td>\n",
              "      <td>1</td>\n",
              "      <td>4123</td>\n",
              "      <td>4</td>\n",
              "      <td>0</td>\n",
              "      <td>0</td>\n",
              "      <td>7034</td>\n",
              "      <td>0</td>\n",
              "    </tr>\n",
              "    <tr>\n",
              "      <th>3</th>\n",
              "      <td>14776</td>\n",
              "      <td>0</td>\n",
              "      <td>1</td>\n",
              "      <td>1</td>\n",
              "      <td>1</td>\n",
              "      <td>500</td>\n",
              "      <td>1</td>\n",
              "      <td>0</td>\n",
              "      <td>0</td>\n",
              "      <td>6952</td>\n",
              "      <td>0</td>\n",
              "    </tr>\n",
              "    <tr>\n",
              "      <th>4</th>\n",
              "      <td>97752</td>\n",
              "      <td>0</td>\n",
              "      <td>4</td>\n",
              "      <td>1</td>\n",
              "      <td>1</td>\n",
              "      <td>43300</td>\n",
              "      <td>26</td>\n",
              "      <td>2077</td>\n",
              "      <td>4</td>\n",
              "      <td>6935</td>\n",
              "      <td>1</td>\n",
              "    </tr>\n",
              "  </tbody>\n",
              "</table>\n",
              "</div>"
            ],
            "text/plain": [
              "   Balance  Qual_miles  cc1_miles  cc2_miles  cc3_miles  Bonus_miles  \\\n",
              "0    28143           0          1          1          1          174   \n",
              "1    19244           0          1          1          1          215   \n",
              "2    41354           0          1          1          1         4123   \n",
              "3    14776           0          1          1          1          500   \n",
              "4    97752           0          4          1          1        43300   \n",
              "\n",
              "   Bonus_trans  Flight_miles_12mo  Flight_trans_12  Days_since_enroll  Award?  \n",
              "0            1                  0                0               7000       0  \n",
              "1            2                  0                0               6968       0  \n",
              "2            4                  0                0               7034       0  \n",
              "3            1                  0                0               6952       0  \n",
              "4           26               2077                4               6935       1  "
            ]
          },
          "execution_count": 10,
          "metadata": {},
          "output_type": "execute_result"
        }
      ],
      "source": [
        "# Dropping the id column\n",
        "air2=air.drop(['id'],axis=1)\n",
        "air2.head()"
      ]
    },
    {
      "cell_type": "code",
      "execution_count": null,
      "id": "f0973e7e",
      "metadata": {
        "id": "f0973e7e",
        "outputId": "36c5953a-1256-4a8a-cf20-d80f0de389f4"
      },
      "outputs": [
        {
          "name": "stdout",
          "output_type": "stream",
          "text": [
            "[[1.65077268e-02 0.00000000e+00 0.00000000e+00 0.00000000e+00\n",
            "  0.00000000e+00 6.59878264e-04 1.16279070e-02 0.00000000e+00\n",
            "  0.00000000e+00 8.43742464e-01 0.00000000e+00]\n",
            " [1.12878760e-02 0.00000000e+00 0.00000000e+00 0.00000000e+00\n",
            "  0.00000000e+00 8.15366820e-04 2.32558140e-02 0.00000000e+00\n",
            "  0.00000000e+00 8.39884254e-01 0.00000000e+00]\n",
            " [2.42568502e-02 0.00000000e+00 0.00000000e+00 0.00000000e+00\n",
            "  0.00000000e+00 1.56360809e-02 4.65116279e-02 0.00000000e+00\n",
            "  0.00000000e+00 8.47841813e-01 0.00000000e+00]\n",
            " [8.66709916e-03 0.00000000e+00 0.00000000e+00 0.00000000e+00\n",
            "  0.00000000e+00 1.89620191e-03 1.16279070e-02 0.00000000e+00\n",
            "  0.00000000e+00 8.37955148e-01 0.00000000e+00]\n",
            " [5.73379993e-02 0.00000000e+00 7.50000000e-01 0.00000000e+00\n",
            "  0.00000000e+00 1.64211085e-01 3.02325581e-01 6.73978648e-02\n",
            "  7.54716981e-02 8.35905474e-01 1.00000000e+00]]\n"
          ]
        }
      ],
      "source": [
        "# Normalising the data\n",
        "scaler=MinMaxScaler(feature_range=(0,1))\n",
        "air_N=scaler.fit_transform(air2)\n",
        "print(air_N[0:5,:])"
      ]
    },
    {
      "cell_type": "markdown",
      "id": "8e8b1e85",
      "metadata": {
        "id": "8e8b1e85"
      },
      "source": [
        "# Hierarchichal Clustering"
      ]
    },
    {
      "cell_type": "code",
      "execution_count": null,
      "id": "c4bee0d0",
      "metadata": {
        "id": "c4bee0d0",
        "outputId": "089e63f6-1b52-434c-878f-ea547d704d51"
      },
      "outputs": [
        {
          "data": {
            "image/png": "[encoded data removed]",
            "text/plain": [
              "<Figure size 1000x500 with 1 Axes>"
            ]
          },
          "metadata": {},
          "output_type": "display_data"
        }
      ],
      "source": [
        "# Creating dendrogram with last points\n",
        "plt.figure(figsize = (10, 5));\n",
        "dendrogram1 = sch.dendrogram(sch.linkage(air, method='complete'))"
      ]
    },
    {
      "cell_type": "code",
      "execution_count": null,
      "id": "aee4eb9c",
      "metadata": {
        "id": "aee4eb9c",
        "outputId": "c42bf7bb-f22f-41c7-983b-d68927cdb8b0"
      },
      "outputs": [
        {
          "data": {
            "image/png": "[encoded data removed]",
            "text/plain": [
              "<Figure size 1200x700 with 1 Axes>"
            ]
          },
          "metadata": {},
          "output_type": "display_data"
        }
      ],
      "source": [
        "# Creating dendrogram with last points\n",
        "plt.figure(figsize = (12, 7));\n",
        "dendrogram2 = sch.dendrogram(sch.linkage(air, method='average'))"
      ]
    },
    {
      "cell_type": "code",
      "execution_count": null,
      "id": "a2378481",
      "metadata": {
        "id": "a2378481"
      },
      "outputs": [],
      "source": [
        "# Create Clusters\n",
        "cluster = AgglomerativeClustering(n_clusters=5, affinity = 'euclidean', linkage = 'complete')"
      ]
    },
    {
      "cell_type": "code",
      "execution_count": null,
      "id": "c023cb1d",
      "metadata": {
        "id": "c023cb1d",
        "outputId": "eb1c1f28-0a42-486e-d119-f83b74f61426"
      },
      "outputs": [
        {
          "data": {
            "text/plain": [
              "array([0, 0, 0, ..., 2, 0, 0], dtype=int64)"
            ]
          },
          "execution_count": 15,
          "metadata": {},
          "output_type": "execute_result"
        }
      ],
      "source": [
        "clst = cluster.fit_predict(air_N)\n",
        "clst"
      ]
    },
    {
      "cell_type": "code",
      "execution_count": null,
      "id": "2fa994d2",
      "metadata": {
        "id": "2fa994d2",
        "outputId": "8ffc96a5-2e03-4d94-ee06-55e76930ff45"
      },
      "outputs": [
        {
          "data": {
            "text/html": [
              "<div>\n",
              "<style scoped>\n",
              "    .dataframe tbody tr th:only-of-type {\n",
              "        vertical-align: middle;\n",
              "    }\n",
              "\n",
              "    .dataframe tbody tr th {\n",
              "        vertical-align: top;\n",
              "    }\n",
              "\n",
              "    .dataframe thead th {\n",
              "        text-align: right;\n",
              "    }\n",
              "</style>\n",
              "<table border=\"1\" class=\"dataframe\">\n",
              "  <thead>\n",
              "    <tr style=\"text-align: right;\">\n",
              "      <th></th>\n",
              "      <th>id</th>\n",
              "      <th>Balance</th>\n",
              "      <th>Qual_miles</th>\n",
              "      <th>cc1_miles</th>\n",
              "      <th>cc2_miles</th>\n",
              "      <th>cc3_miles</th>\n",
              "      <th>Bonus_miles</th>\n",
              "      <th>Bonus_trans</th>\n",
              "      <th>Flight_miles_12mo</th>\n",
              "      <th>Flight_trans_12</th>\n",
              "      <th>Days_since_enroll</th>\n",
              "      <th>Award?</th>\n",
              "      <th>cluster_id</th>\n",
              "    </tr>\n",
              "  </thead>\n",
              "  <tbody>\n",
              "    <tr>\n",
              "      <th>0</th>\n",
              "      <td>1</td>\n",
              "      <td>28143</td>\n",
              "      <td>0</td>\n",
              "      <td>1</td>\n",
              "      <td>1</td>\n",
              "      <td>1</td>\n",
              "      <td>174</td>\n",
              "      <td>1</td>\n",
              "      <td>0</td>\n",
              "      <td>0</td>\n",
              "      <td>7000</td>\n",
              "      <td>0</td>\n",
              "      <td>0</td>\n",
              "    </tr>\n",
              "    <tr>\n",
              "      <th>1</th>\n",
              "      <td>2</td>\n",
              "      <td>19244</td>\n",
              "      <td>0</td>\n",
              "      <td>1</td>\n",
              "      <td>1</td>\n",
              "      <td>1</td>\n",
              "      <td>215</td>\n",
              "      <td>2</td>\n",
              "      <td>0</td>\n",
              "      <td>0</td>\n",
              "      <td>6968</td>\n",
              "      <td>0</td>\n",
              "      <td>0</td>\n",
              "    </tr>\n",
              "    <tr>\n",
              "      <th>2</th>\n",
              "      <td>3</td>\n",
              "      <td>41354</td>\n",
              "      <td>0</td>\n",
              "      <td>1</td>\n",
              "      <td>1</td>\n",
              "      <td>1</td>\n",
              "      <td>4123</td>\n",
              "      <td>4</td>\n",
              "      <td>0</td>\n",
              "      <td>0</td>\n",
              "      <td>7034</td>\n",
              "      <td>0</td>\n",
              "      <td>0</td>\n",
              "    </tr>\n",
              "    <tr>\n",
              "      <th>3</th>\n",
              "      <td>4</td>\n",
              "      <td>14776</td>\n",
              "      <td>0</td>\n",
              "      <td>1</td>\n",
              "      <td>1</td>\n",
              "      <td>1</td>\n",
              "      <td>500</td>\n",
              "      <td>1</td>\n",
              "      <td>0</td>\n",
              "      <td>0</td>\n",
              "      <td>6952</td>\n",
              "      <td>0</td>\n",
              "      <td>0</td>\n",
              "    </tr>\n",
              "    <tr>\n",
              "      <th>4</th>\n",
              "      <td>5</td>\n",
              "      <td>97752</td>\n",
              "      <td>0</td>\n",
              "      <td>4</td>\n",
              "      <td>1</td>\n",
              "      <td>1</td>\n",
              "      <td>43300</td>\n",
              "      <td>26</td>\n",
              "      <td>2077</td>\n",
              "      <td>4</td>\n",
              "      <td>6935</td>\n",
              "      <td>1</td>\n",
              "      <td>1</td>\n",
              "    </tr>\n",
              "    <tr>\n",
              "      <th>...</th>\n",
              "      <td>...</td>\n",
              "      <td>...</td>\n",
              "      <td>...</td>\n",
              "      <td>...</td>\n",
              "      <td>...</td>\n",
              "      <td>...</td>\n",
              "      <td>...</td>\n",
              "      <td>...</td>\n",
              "      <td>...</td>\n",
              "      <td>...</td>\n",
              "      <td>...</td>\n",
              "      <td>...</td>\n",
              "      <td>...</td>\n",
              "    </tr>\n",
              "    <tr>\n",
              "      <th>3994</th>\n",
              "      <td>4017</td>\n",
              "      <td>18476</td>\n",
              "      <td>0</td>\n",
              "      <td>1</td>\n",
              "      <td>1</td>\n",
              "      <td>1</td>\n",
              "      <td>8525</td>\n",
              "      <td>4</td>\n",
              "      <td>200</td>\n",
              "      <td>1</td>\n",
              "      <td>1403</td>\n",
              "      <td>1</td>\n",
              "      <td>2</td>\n",
              "    </tr>\n",
              "    <tr>\n",
              "      <th>3995</th>\n",
              "      <td>4018</td>\n",
              "      <td>64385</td>\n",
              "      <td>0</td>\n",
              "      <td>1</td>\n",
              "      <td>1</td>\n",
              "      <td>1</td>\n",
              "      <td>981</td>\n",
              "      <td>5</td>\n",
              "      <td>0</td>\n",
              "      <td>0</td>\n",
              "      <td>1395</td>\n",
              "      <td>1</td>\n",
              "      <td>2</td>\n",
              "    </tr>\n",
              "    <tr>\n",
              "      <th>3996</th>\n",
              "      <td>4019</td>\n",
              "      <td>73597</td>\n",
              "      <td>0</td>\n",
              "      <td>3</td>\n",
              "      <td>1</td>\n",
              "      <td>1</td>\n",
              "      <td>25447</td>\n",
              "      <td>8</td>\n",
              "      <td>0</td>\n",
              "      <td>0</td>\n",
              "      <td>1402</td>\n",
              "      <td>1</td>\n",
              "      <td>2</td>\n",
              "    </tr>\n",
              "    <tr>\n",
              "      <th>3997</th>\n",
              "      <td>4020</td>\n",
              "      <td>54899</td>\n",
              "      <td>0</td>\n",
              "      <td>1</td>\n",
              "      <td>1</td>\n",
              "      <td>1</td>\n",
              "      <td>500</td>\n",
              "      <td>1</td>\n",
              "      <td>500</td>\n",
              "      <td>1</td>\n",
              "      <td>1401</td>\n",
              "      <td>0</td>\n",
              "      <td>0</td>\n",
              "    </tr>\n",
              "    <tr>\n",
              "      <th>3998</th>\n",
              "      <td>4021</td>\n",
              "      <td>3016</td>\n",
              "      <td>0</td>\n",
              "      <td>1</td>\n",
              "      <td>1</td>\n",
              "      <td>1</td>\n",
              "      <td>0</td>\n",
              "      <td>0</td>\n",
              "      <td>0</td>\n",
              "      <td>0</td>\n",
              "      <td>1398</td>\n",
              "      <td>0</td>\n",
              "      <td>0</td>\n",
              "    </tr>\n",
              "  </tbody>\n",
              "</table>\n",
              "<p>3999 rows × 13 columns</p>\n",
              "</div>"
            ],
            "text/plain": [
              "        id  Balance  Qual_miles  cc1_miles  cc2_miles  cc3_miles  Bonus_miles  \\\n",
              "0        1    28143           0          1          1          1          174   \n",
              "1        2    19244           0          1          1          1          215   \n",
              "2        3    41354           0          1          1          1         4123   \n",
              "3        4    14776           0          1          1          1          500   \n",
              "4        5    97752           0          4          1          1        43300   \n",
              "...    ...      ...         ...        ...        ...        ...          ...   \n",
              "3994  4017    18476           0          1          1          1         8525   \n",
              "3995  4018    64385           0          1          1          1          981   \n",
              "3996  4019    73597           0          3          1          1        25447   \n",
              "3997  4020    54899           0          1          1          1          500   \n",
              "3998  4021     3016           0          1          1          1            0   \n",
              "\n",
              "      Bonus_trans  Flight_miles_12mo  Flight_trans_12  Days_since_enroll  \\\n",
              "0               1                  0                0               7000   \n",
              "1               2                  0                0               6968   \n",
              "2               4                  0                0               7034   \n",
              "3               1                  0                0               6952   \n",
              "4              26               2077                4               6935   \n",
              "...           ...                ...              ...                ...   \n",
              "3994            4                200                1               1403   \n",
              "3995            5                  0                0               1395   \n",
              "3996            8                  0                0               1402   \n",
              "3997            1                500                1               1401   \n",
              "3998            0                  0                0               1398   \n",
              "\n",
              "      Award?  cluster_id  \n",
              "0          0           0  \n",
              "1          0           0  \n",
              "2          0           0  \n",
              "3          0           0  \n",
              "4          1           1  \n",
              "...      ...         ...  \n",
              "3994       1           2  \n",
              "3995       1           2  \n",
              "3996       1           2  \n",
              "3997       0           0  \n",
              "3998       0           0  \n",
              "\n",
              "[3999 rows x 13 columns]"
            ]
          },
          "execution_count": 16,
          "metadata": {},
          "output_type": "execute_result"
        }
      ],
      "source": [
        "air['cluster_id'] = clst\n",
        "air"
      ]
    },
    {
      "cell_type": "code",
      "execution_count": null,
      "id": "a7930050",
      "metadata": {
        "id": "a7930050",
        "outputId": "7d77bc0c-7d5d-4426-b70a-5c56fc6cc749"
      },
      "outputs": [
        {
          "data": {
            "text/plain": [
              "0    2495\n",
              "2    1144\n",
              "1     325\n",
              "4      31\n",
              "3       4\n",
              "Name: cluster_id, dtype: int64"
            ]
          },
          "execution_count": 17,
          "metadata": {},
          "output_type": "execute_result"
        }
      ],
      "source": [
        "air['cluster_id'].value_counts()"
      ]
    },
    {
      "cell_type": "markdown",
      "id": "3fad7821",
      "metadata": {
        "id": "3fad7821"
      },
      "source": [
        "# K Means Clustering"
      ]
    },
    {
      "cell_type": "code",
      "execution_count": null,
      "id": "ba7e0f0b",
      "metadata": {
        "id": "ba7e0f0b"
      },
      "outputs": [],
      "source": [
        "from sklearn.cluster import KMeans"
      ]
    },
    {
      "cell_type": "code",
      "execution_count": null,
      "id": "dc8d2a5b",
      "metadata": {
        "id": "dc8d2a5b"
      },
      "outputs": [],
      "source": [
        "# within-cluster sum-of-squares criterion\n",
        "wcss=[]\n",
        "for i in range (1,11):\n",
        "    kmeans=KMeans(n_clusters=i,random_state=2)\n",
        "    kmeans.fit(air_N)\n",
        "    wcss.append(kmeans.inertia_)"
      ]
    },
    {
      "cell_type": "code",
      "execution_count": null,
      "id": "335f6994",
      "metadata": {
        "id": "335f6994",
        "outputId": "0375aa31-8dee-4f22-a7e2-ae5dfbd01df2"
      },
      "outputs": [
        {
          "data": {
            "image/png": "[encoded data removed]",
            "text/plain": [
              "<Figure size 640x480 with 1 Axes>"
            ]
          },
          "metadata": {},
          "output_type": "display_data"
        }
      ],
      "source": [
        "# Plot K values range vs WCSS to get Elbow graph for choosing K (no. of clusters)\n",
        "plt.plot(range(1,11),wcss)\n",
        "plt.title('Elbow Graph')\n",
        "plt.xlabel('Number of clusters')\n",
        "plt.ylabel('WCSS')\n",
        "plt.show()"
      ]
    },
    {
      "cell_type": "markdown",
      "id": "9beec2de",
      "metadata": {
        "id": "9beec2de"
      },
      "source": [
        "### Build Cluster algorithm using K=4"
      ]
    },
    {
      "cell_type": "code",
      "execution_count": null,
      "id": "b334fad4",
      "metadata": {
        "id": "b334fad4",
        "outputId": "865d94e1-acb5-40da-d28b-bc7dbc5ad7cf"
      },
      "outputs": [
        {
          "data": {
            "text/plain": [
              "KMeans(n_clusters=4, random_state=30)"
            ]
          },
          "execution_count": 21,
          "metadata": {},
          "output_type": "execute_result"
        }
      ],
      "source": [
        "clusters4=KMeans(4,random_state=30).fit(air_N)\n",
        "clusters4"
      ]
    },
    {
      "cell_type": "code",
      "execution_count": null,
      "id": "e17ff944",
      "metadata": {
        "id": "e17ff944",
        "outputId": "11dc4ec0-4776-49bc-a033-976eafa72a07"
      },
      "outputs": [
        {
          "data": {
            "text/plain": [
              "array([0, 0, 0, ..., 3, 0, 0])"
            ]
          },
          "execution_count": 22,
          "metadata": {},
          "output_type": "execute_result"
        }
      ],
      "source": [
        "clusters4.labels_"
      ]
    },
    {
      "cell_type": "code",
      "execution_count": null,
      "id": "2cd4cf8d",
      "metadata": {
        "id": "2cd4cf8d",
        "outputId": "1c031242-2bc8-4c0a-e793-0c5a87a121ab"
      },
      "outputs": [
        {
          "data": {
            "text/html": [
              "<div>\n",
              "<style scoped>\n",
              "    .dataframe tbody tr th:only-of-type {\n",
              "        vertical-align: middle;\n",
              "    }\n",
              "\n",
              "    .dataframe tbody tr th {\n",
              "        vertical-align: top;\n",
              "    }\n",
              "\n",
              "    .dataframe thead th {\n",
              "        text-align: right;\n",
              "    }\n",
              "</style>\n",
              "<table border=\"1\" class=\"dataframe\">\n",
              "  <thead>\n",
              "    <tr style=\"text-align: right;\">\n",
              "      <th></th>\n",
              "      <th>Balance</th>\n",
              "      <th>Qual_miles</th>\n",
              "      <th>cc1_miles</th>\n",
              "      <th>cc2_miles</th>\n",
              "      <th>cc3_miles</th>\n",
              "      <th>Bonus_miles</th>\n",
              "      <th>Bonus_trans</th>\n",
              "      <th>Flight_miles_12mo</th>\n",
              "      <th>Flight_trans_12</th>\n",
              "      <th>Days_since_enroll</th>\n",
              "      <th>Award?</th>\n",
              "      <th>clusters4_id</th>\n",
              "    </tr>\n",
              "  </thead>\n",
              "  <tbody>\n",
              "    <tr>\n",
              "      <th>0</th>\n",
              "      <td>28143</td>\n",
              "      <td>0</td>\n",
              "      <td>1</td>\n",
              "      <td>1</td>\n",
              "      <td>1</td>\n",
              "      <td>174</td>\n",
              "      <td>1</td>\n",
              "      <td>0</td>\n",
              "      <td>0</td>\n",
              "      <td>7000</td>\n",
              "      <td>0</td>\n",
              "      <td>0</td>\n",
              "    </tr>\n",
              "    <tr>\n",
              "      <th>1</th>\n",
              "      <td>19244</td>\n",
              "      <td>0</td>\n",
              "      <td>1</td>\n",
              "      <td>1</td>\n",
              "      <td>1</td>\n",
              "      <td>215</td>\n",
              "      <td>2</td>\n",
              "      <td>0</td>\n",
              "      <td>0</td>\n",
              "      <td>6968</td>\n",
              "      <td>0</td>\n",
              "      <td>0</td>\n",
              "    </tr>\n",
              "    <tr>\n",
              "      <th>2</th>\n",
              "      <td>41354</td>\n",
              "      <td>0</td>\n",
              "      <td>1</td>\n",
              "      <td>1</td>\n",
              "      <td>1</td>\n",
              "      <td>4123</td>\n",
              "      <td>4</td>\n",
              "      <td>0</td>\n",
              "      <td>0</td>\n",
              "      <td>7034</td>\n",
              "      <td>0</td>\n",
              "      <td>0</td>\n",
              "    </tr>\n",
              "    <tr>\n",
              "      <th>3</th>\n",
              "      <td>14776</td>\n",
              "      <td>0</td>\n",
              "      <td>1</td>\n",
              "      <td>1</td>\n",
              "      <td>1</td>\n",
              "      <td>500</td>\n",
              "      <td>1</td>\n",
              "      <td>0</td>\n",
              "      <td>0</td>\n",
              "      <td>6952</td>\n",
              "      <td>0</td>\n",
              "      <td>0</td>\n",
              "    </tr>\n",
              "    <tr>\n",
              "      <th>4</th>\n",
              "      <td>97752</td>\n",
              "      <td>0</td>\n",
              "      <td>4</td>\n",
              "      <td>1</td>\n",
              "      <td>1</td>\n",
              "      <td>43300</td>\n",
              "      <td>26</td>\n",
              "      <td>2077</td>\n",
              "      <td>4</td>\n",
              "      <td>6935</td>\n",
              "      <td>1</td>\n",
              "      <td>3</td>\n",
              "    </tr>\n",
              "    <tr>\n",
              "      <th>...</th>\n",
              "      <td>...</td>\n",
              "      <td>...</td>\n",
              "      <td>...</td>\n",
              "      <td>...</td>\n",
              "      <td>...</td>\n",
              "      <td>...</td>\n",
              "      <td>...</td>\n",
              "      <td>...</td>\n",
              "      <td>...</td>\n",
              "      <td>...</td>\n",
              "      <td>...</td>\n",
              "      <td>...</td>\n",
              "    </tr>\n",
              "    <tr>\n",
              "      <th>3994</th>\n",
              "      <td>18476</td>\n",
              "      <td>0</td>\n",
              "      <td>1</td>\n",
              "      <td>1</td>\n",
              "      <td>1</td>\n",
              "      <td>8525</td>\n",
              "      <td>4</td>\n",
              "      <td>200</td>\n",
              "      <td>1</td>\n",
              "      <td>1403</td>\n",
              "      <td>1</td>\n",
              "      <td>1</td>\n",
              "    </tr>\n",
              "    <tr>\n",
              "      <th>3995</th>\n",
              "      <td>64385</td>\n",
              "      <td>0</td>\n",
              "      <td>1</td>\n",
              "      <td>1</td>\n",
              "      <td>1</td>\n",
              "      <td>981</td>\n",
              "      <td>5</td>\n",
              "      <td>0</td>\n",
              "      <td>0</td>\n",
              "      <td>1395</td>\n",
              "      <td>1</td>\n",
              "      <td>1</td>\n",
              "    </tr>\n",
              "    <tr>\n",
              "      <th>3996</th>\n",
              "      <td>73597</td>\n",
              "      <td>0</td>\n",
              "      <td>3</td>\n",
              "      <td>1</td>\n",
              "      <td>1</td>\n",
              "      <td>25447</td>\n",
              "      <td>8</td>\n",
              "      <td>0</td>\n",
              "      <td>0</td>\n",
              "      <td>1402</td>\n",
              "      <td>1</td>\n",
              "      <td>3</td>\n",
              "    </tr>\n",
              "    <tr>\n",
              "      <th>3997</th>\n",
              "      <td>54899</td>\n",
              "      <td>0</td>\n",
              "      <td>1</td>\n",
              "      <td>1</td>\n",
              "      <td>1</td>\n",
              "      <td>500</td>\n",
              "      <td>1</td>\n",
              "      <td>500</td>\n",
              "      <td>1</td>\n",
              "      <td>1401</td>\n",
              "      <td>0</td>\n",
              "      <td>0</td>\n",
              "    </tr>\n",
              "    <tr>\n",
              "      <th>3998</th>\n",
              "      <td>3016</td>\n",
              "      <td>0</td>\n",
              "      <td>1</td>\n",
              "      <td>1</td>\n",
              "      <td>1</td>\n",
              "      <td>0</td>\n",
              "      <td>0</td>\n",
              "      <td>0</td>\n",
              "      <td>0</td>\n",
              "      <td>1398</td>\n",
              "      <td>0</td>\n",
              "      <td>0</td>\n",
              "    </tr>\n",
              "  </tbody>\n",
              "</table>\n",
              "<p>3999 rows × 12 columns</p>\n",
              "</div>"
            ],
            "text/plain": [
              "      Balance  Qual_miles  cc1_miles  cc2_miles  cc3_miles  Bonus_miles  \\\n",
              "0       28143           0          1          1          1          174   \n",
              "1       19244           0          1          1          1          215   \n",
              "2       41354           0          1          1          1         4123   \n",
              "3       14776           0          1          1          1          500   \n",
              "4       97752           0          4          1          1        43300   \n",
              "...       ...         ...        ...        ...        ...          ...   \n",
              "3994    18476           0          1          1          1         8525   \n",
              "3995    64385           0          1          1          1          981   \n",
              "3996    73597           0          3          1          1        25447   \n",
              "3997    54899           0          1          1          1          500   \n",
              "3998     3016           0          1          1          1            0   \n",
              "\n",
              "      Bonus_trans  Flight_miles_12mo  Flight_trans_12  Days_since_enroll  \\\n",
              "0               1                  0                0               7000   \n",
              "1               2                  0                0               6968   \n",
              "2               4                  0                0               7034   \n",
              "3               1                  0                0               6952   \n",
              "4              26               2077                4               6935   \n",
              "...           ...                ...              ...                ...   \n",
              "3994            4                200                1               1403   \n",
              "3995            5                  0                0               1395   \n",
              "3996            8                  0                0               1402   \n",
              "3997            1                500                1               1401   \n",
              "3998            0                  0                0               1398   \n",
              "\n",
              "      Award?  clusters4_id  \n",
              "0          0             0  \n",
              "1          0             0  \n",
              "2          0             0  \n",
              "3          0             0  \n",
              "4          1             3  \n",
              "...      ...           ...  \n",
              "3994       1             1  \n",
              "3995       1             1  \n",
              "3996       1             3  \n",
              "3997       0             0  \n",
              "3998       0             0  \n",
              "\n",
              "[3999 rows x 12 columns]"
            ]
          },
          "execution_count": 23,
          "metadata": {},
          "output_type": "execute_result"
        }
      ],
      "source": [
        "# Assign clusters to the data set\n",
        "air4=air2.copy()\n",
        "air4['clusters4_id']=clusters4.labels_\n",
        "air4"
      ]
    },
    {
      "cell_type": "code",
      "execution_count": null,
      "id": "513e3242",
      "metadata": {
        "id": "513e3242",
        "outputId": "b4d86e55-16bd-4f2f-b510-5a363a067aee"
      },
      "outputs": [
        {
          "data": {
            "text/plain": [
              "array([[ 2.39011667e-02,  8.28362120e-03,  2.31945177e-02,\n",
              "         8.96151819e-03,  1.05429626e-03,  1.26482465e-02,\n",
              "         7.54496083e-02,  7.35308092e-03,  1.24327389e-02,\n",
              "         4.36111859e-01,  3.33066907e-15],\n",
              "       [ 4.89953609e-02,  2.60542873e-02,  3.90044577e-02,\n",
              "         1.63447251e-02,  2.22882615e-03,  3.35642727e-02,\n",
              "         1.21825219e-01,  3.34267751e-02,  5.94073285e-02,\n",
              "         5.22892182e-01,  1.00000000e+00],\n",
              "       [ 6.92335936e-02,  6.55837114e-03,  6.44122383e-01,\n",
              "         8.05152979e-04,  5.63607085e-03,  1.18636504e-01,\n",
              "         2.00595439e-01,  7.31260853e-03,  1.19405706e-02,\n",
              "         5.34640411e-01, -4.44089210e-16],\n",
              "       [ 6.35352962e-02,  1.77912301e-02,  7.28960396e-01,\n",
              "         6.18811881e-04,  6.49752475e-03,  1.72970238e-01,\n",
              "         2.34903868e-01,  2.31602349e-02,  4.04212591e-02,\n",
              "         5.86139300e-01,  1.00000000e+00]])"
            ]
          },
          "execution_count": 24,
          "metadata": {},
          "output_type": "execute_result"
        }
      ],
      "source": [
        "# Compute the centroids for K=4 clusters with 11 variables\n",
        "clusters4.cluster_centers_"
      ]
    },
    {
      "cell_type": "code",
      "execution_count": null,
      "id": "8603c311",
      "metadata": {
        "id": "8603c311",
        "outputId": "1e5c468d-68db-4c7a-9c5a-1932bcab0f8d"
      },
      "outputs": [
        {
          "data": {
            "text/html": [
              "<div>\n",
              "<style scoped>\n",
              "    .dataframe tbody tr th:only-of-type {\n",
              "        vertical-align: middle;\n",
              "    }\n",
              "\n",
              "    .dataframe tbody tr th {\n",
              "        vertical-align: top;\n",
              "    }\n",
              "\n",
              "    .dataframe thead tr th {\n",
              "        text-align: left;\n",
              "    }\n",
              "</style>\n",
              "<table border=\"1\" class=\"dataframe\">\n",
              "  <thead>\n",
              "    <tr>\n",
              "      <th></th>\n",
              "      <th>clusters4_id</th>\n",
              "      <th>Balance</th>\n",
              "      <th>Qual_miles</th>\n",
              "      <th>cc1_miles</th>\n",
              "      <th>cc2_miles</th>\n",
              "      <th>cc3_miles</th>\n",
              "      <th>Bonus_miles</th>\n",
              "      <th>Bonus_trans</th>\n",
              "      <th>Flight_miles_12mo</th>\n",
              "      <th>Flight_trans_12</th>\n",
              "      <th>Days_since_enroll</th>\n",
              "      <th>Award?</th>\n",
              "    </tr>\n",
              "    <tr>\n",
              "      <th></th>\n",
              "      <th></th>\n",
              "      <th>mean</th>\n",
              "      <th>mean</th>\n",
              "      <th>mean</th>\n",
              "      <th>mean</th>\n",
              "      <th>mean</th>\n",
              "      <th>mean</th>\n",
              "      <th>mean</th>\n",
              "      <th>mean</th>\n",
              "      <th>mean</th>\n",
              "      <th>mean</th>\n",
              "      <th>mean</th>\n",
              "    </tr>\n",
              "  </thead>\n",
              "  <tbody>\n",
              "    <tr>\n",
              "      <th>0</th>\n",
              "      <td>0</td>\n",
              "      <td>40747.617290</td>\n",
              "      <td>92.345809</td>\n",
              "      <td>1.092778</td>\n",
              "      <td>1.017923</td>\n",
              "      <td>1.004217</td>\n",
              "      <td>3335.152873</td>\n",
              "      <td>6.488666</td>\n",
              "      <td>226.599895</td>\n",
              "      <td>0.658935</td>\n",
              "      <td>3619.111755</td>\n",
              "      <td>0.0</td>\n",
              "    </tr>\n",
              "    <tr>\n",
              "      <th>1</th>\n",
              "      <td>1</td>\n",
              "      <td>83529.153046</td>\n",
              "      <td>290.453195</td>\n",
              "      <td>1.156018</td>\n",
              "      <td>1.032689</td>\n",
              "      <td>1.008915</td>\n",
              "      <td>8850.395245</td>\n",
              "      <td>10.476969</td>\n",
              "      <td>1030.112927</td>\n",
              "      <td>3.148588</td>\n",
              "      <td>4338.867756</td>\n",
              "      <td>1.0</td>\n",
              "    </tr>\n",
              "    <tr>\n",
              "      <th>2</th>\n",
              "      <td>2</td>\n",
              "      <td>118032.061192</td>\n",
              "      <td>73.112721</td>\n",
              "      <td>3.576490</td>\n",
              "      <td>1.001610</td>\n",
              "      <td>1.022544</td>\n",
              "      <td>31282.666667</td>\n",
              "      <td>17.251208</td>\n",
              "      <td>225.352657</td>\n",
              "      <td>0.632850</td>\n",
              "      <td>4436.307568</td>\n",
              "      <td>0.0</td>\n",
              "    </tr>\n",
              "    <tr>\n",
              "      <th>3</th>\n",
              "      <td>3</td>\n",
              "      <td>108317.387376</td>\n",
              "      <td>198.336634</td>\n",
              "      <td>3.915842</td>\n",
              "      <td>1.001238</td>\n",
              "      <td>1.025990</td>\n",
              "      <td>45609.657178</td>\n",
              "      <td>20.201733</td>\n",
              "      <td>713.728960</td>\n",
              "      <td>2.142327</td>\n",
              "      <td>4863.439356</td>\n",
              "      <td>1.0</td>\n",
              "    </tr>\n",
              "  </tbody>\n",
              "</table>\n",
              "</div>"
            ],
            "text/plain": [
              "  clusters4_id        Balance  Qual_miles cc1_miles cc2_miles cc3_miles  \\\n",
              "                         mean        mean      mean      mean      mean   \n",
              "0            0   40747.617290   92.345809  1.092778  1.017923  1.004217   \n",
              "1            1   83529.153046  290.453195  1.156018  1.032689  1.008915   \n",
              "2            2  118032.061192   73.112721  3.576490  1.001610  1.022544   \n",
              "3            3  108317.387376  198.336634  3.915842  1.001238  1.025990   \n",
              "\n",
              "    Bonus_miles Bonus_trans Flight_miles_12mo Flight_trans_12  \\\n",
              "           mean        mean              mean            mean   \n",
              "0   3335.152873    6.488666        226.599895        0.658935   \n",
              "1   8850.395245   10.476969       1030.112927        3.148588   \n",
              "2  31282.666667   17.251208        225.352657        0.632850   \n",
              "3  45609.657178   20.201733        713.728960        2.142327   \n",
              "\n",
              "  Days_since_enroll Award?  \n",
              "               mean   mean  \n",
              "0       3619.111755    0.0  \n",
              "1       4338.867756    1.0  \n",
              "2       4436.307568    0.0  \n",
              "3       4863.439356    1.0  "
            ]
          },
          "execution_count": 25,
          "metadata": {},
          "output_type": "execute_result"
        }
      ],
      "source": [
        "# Group data by Clusters (K=4)\n",
        "air4.groupby('clusters4_id').agg(['mean']).reset_index()"
      ]
    },
    {
      "cell_type": "code",
      "execution_count": null,
      "id": "8c48fdca",
      "metadata": {
        "id": "8c48fdca",
        "outputId": "853883d9-3efa-45d4-dc9a-ac1588cd4317"
      },
      "outputs": [
        {
          "data": {
            "text/plain": [
              "<matplotlib.collections.PathCollection at 0x15445146250>"
            ]
          },
          "execution_count": 26,
          "metadata": {},
          "output_type": "execute_result"
        },
        {
          "data": {
            "image/png": "[encoded data removed]",
            "text/plain": [
              "<Figure size 1000x700 with 1 Axes>"
            ]
          },
          "metadata": {},
          "output_type": "display_data"
        }
      ],
      "source": [
        "# Plot Clusters\n",
        "plt.figure(figsize=(10, 7))\n",
        "plt.scatter(air4['clusters4_id'],air4['Balance'], c=clusters4.labels_)"
      ]
    },
    {
      "cell_type": "markdown",
      "id": "0aae18fd",
      "metadata": {
        "id": "0aae18fd"
      },
      "source": [
        "### Build Cluster algorithm using K=5"
      ]
    },
    {
      "cell_type": "code",
      "execution_count": null,
      "id": "8ad86806",
      "metadata": {
        "id": "8ad86806",
        "outputId": "015b3b8c-0015-4d35-a85e-7240804c5c25"
      },
      "outputs": [
        {
          "data": {
            "text/plain": [
              "KMeans(n_clusters=5, random_state=30)"
            ]
          },
          "execution_count": 27,
          "metadata": {},
          "output_type": "execute_result"
        }
      ],
      "source": [
        "clusters5=KMeans(5,random_state=30).fit(air_N)\n",
        "clusters5"
      ]
    },
    {
      "cell_type": "code",
      "execution_count": null,
      "id": "a726cdd7",
      "metadata": {
        "id": "a726cdd7",
        "outputId": "805faa4b-e280-499e-adf3-6c201284b309"
      },
      "outputs": [
        {
          "data": {
            "text/plain": [
              "array([4, 4, 4, ..., 1, 0, 0])"
            ]
          },
          "execution_count": 28,
          "metadata": {},
          "output_type": "execute_result"
        }
      ],
      "source": [
        "clusters5.labels_"
      ]
    },
    {
      "cell_type": "code",
      "execution_count": null,
      "id": "35a96a9f",
      "metadata": {
        "id": "35a96a9f",
        "outputId": "5d9d3ae1-dafa-41d7-f58d-0cac58bbba4c"
      },
      "outputs": [
        {
          "data": {
            "text/html": [
              "<div>\n",
              "<style scoped>\n",
              "    .dataframe tbody tr th:only-of-type {\n",
              "        vertical-align: middle;\n",
              "    }\n",
              "\n",
              "    .dataframe tbody tr th {\n",
              "        vertical-align: top;\n",
              "    }\n",
              "\n",
              "    .dataframe thead th {\n",
              "        text-align: right;\n",
              "    }\n",
              "</style>\n",
              "<table border=\"1\" class=\"dataframe\">\n",
              "  <thead>\n",
              "    <tr style=\"text-align: right;\">\n",
              "      <th></th>\n",
              "      <th>Balance</th>\n",
              "      <th>Qual_miles</th>\n",
              "      <th>cc1_miles</th>\n",
              "      <th>cc2_miles</th>\n",
              "      <th>cc3_miles</th>\n",
              "      <th>Bonus_miles</th>\n",
              "      <th>Bonus_trans</th>\n",
              "      <th>Flight_miles_12mo</th>\n",
              "      <th>Flight_trans_12</th>\n",
              "      <th>Days_since_enroll</th>\n",
              "      <th>Award?</th>\n",
              "      <th>clusters5_id</th>\n",
              "    </tr>\n",
              "  </thead>\n",
              "  <tbody>\n",
              "    <tr>\n",
              "      <th>0</th>\n",
              "      <td>28143</td>\n",
              "      <td>0</td>\n",
              "      <td>1</td>\n",
              "      <td>1</td>\n",
              "      <td>1</td>\n",
              "      <td>174</td>\n",
              "      <td>1</td>\n",
              "      <td>0</td>\n",
              "      <td>0</td>\n",
              "      <td>7000</td>\n",
              "      <td>0</td>\n",
              "      <td>4</td>\n",
              "    </tr>\n",
              "    <tr>\n",
              "      <th>1</th>\n",
              "      <td>19244</td>\n",
              "      <td>0</td>\n",
              "      <td>1</td>\n",
              "      <td>1</td>\n",
              "      <td>1</td>\n",
              "      <td>215</td>\n",
              "      <td>2</td>\n",
              "      <td>0</td>\n",
              "      <td>0</td>\n",
              "      <td>6968</td>\n",
              "      <td>0</td>\n",
              "      <td>4</td>\n",
              "    </tr>\n",
              "    <tr>\n",
              "      <th>2</th>\n",
              "      <td>41354</td>\n",
              "      <td>0</td>\n",
              "      <td>1</td>\n",
              "      <td>1</td>\n",
              "      <td>1</td>\n",
              "      <td>4123</td>\n",
              "      <td>4</td>\n",
              "      <td>0</td>\n",
              "      <td>0</td>\n",
              "      <td>7034</td>\n",
              "      <td>0</td>\n",
              "      <td>4</td>\n",
              "    </tr>\n",
              "    <tr>\n",
              "      <th>3</th>\n",
              "      <td>14776</td>\n",
              "      <td>0</td>\n",
              "      <td>1</td>\n",
              "      <td>1</td>\n",
              "      <td>1</td>\n",
              "      <td>500</td>\n",
              "      <td>1</td>\n",
              "      <td>0</td>\n",
              "      <td>0</td>\n",
              "      <td>6952</td>\n",
              "      <td>0</td>\n",
              "      <td>4</td>\n",
              "    </tr>\n",
              "    <tr>\n",
              "      <th>4</th>\n",
              "      <td>97752</td>\n",
              "      <td>0</td>\n",
              "      <td>4</td>\n",
              "      <td>1</td>\n",
              "      <td>1</td>\n",
              "      <td>43300</td>\n",
              "      <td>26</td>\n",
              "      <td>2077</td>\n",
              "      <td>4</td>\n",
              "      <td>6935</td>\n",
              "      <td>1</td>\n",
              "      <td>1</td>\n",
              "    </tr>\n",
              "  </tbody>\n",
              "</table>\n",
              "</div>"
            ],
            "text/plain": [
              "   Balance  Qual_miles  cc1_miles  cc2_miles  cc3_miles  Bonus_miles  \\\n",
              "0    28143           0          1          1          1          174   \n",
              "1    19244           0          1          1          1          215   \n",
              "2    41354           0          1          1          1         4123   \n",
              "3    14776           0          1          1          1          500   \n",
              "4    97752           0          4          1          1        43300   \n",
              "\n",
              "   Bonus_trans  Flight_miles_12mo  Flight_trans_12  Days_since_enroll  Award?  \\\n",
              "0            1                  0                0               7000       0   \n",
              "1            2                  0                0               6968       0   \n",
              "2            4                  0                0               7034       0   \n",
              "3            1                  0                0               6952       0   \n",
              "4           26               2077                4               6935       1   \n",
              "\n",
              "   clusters5_id  \n",
              "0             4  \n",
              "1             4  \n",
              "2             4  \n",
              "3             4  \n",
              "4             1  "
            ]
          },
          "execution_count": 29,
          "metadata": {},
          "output_type": "execute_result"
        }
      ],
      "source": [
        "# Assign clusters to the data set\n",
        "air5=air2.copy()\n",
        "air5['clusters5_id']=clusters5.labels_\n",
        "air5.head()"
      ]
    },
    {
      "cell_type": "code",
      "execution_count": null,
      "id": "1c3d0b57",
      "metadata": {
        "id": "1c3d0b57",
        "outputId": "d9d46e05-e516-4b20-fc1b-cc40be796226"
      },
      "outputs": [
        {
          "data": {
            "text/plain": [
              "array([[ 1.94137515e-02,  8.44382696e-03,  1.76841085e-02,\n",
              "         8.23643411e-03,  1.69573643e-03,  1.23045313e-02,\n",
              "         7.17842978e-02,  6.90692719e-03,  1.13902296e-02,\n",
              "         2.39980966e-01,  3.94129174e-15],\n",
              "       [ 6.35352962e-02,  1.77912301e-02,  7.28960396e-01,\n",
              "         6.18811881e-04,  6.49752475e-03,  1.72970238e-01,\n",
              "         2.34903868e-01,  2.31602349e-02,  4.04212591e-02,\n",
              "         5.86139300e-01,  1.00000000e+00],\n",
              "       [ 4.89953609e-02,  2.60542873e-02,  3.90044577e-02,\n",
              "         1.63447251e-02,  2.22882615e-03,  3.35642727e-02,\n",
              "         1.21825219e-01,  3.34267751e-02,  5.94073285e-02,\n",
              "         5.22892182e-01,  1.00000000e+00],\n",
              "       [ 6.93891884e-02,  6.59020789e-03,  6.46035599e-01,\n",
              "         8.09061489e-04,  5.66343042e-03,  1.19022293e-01,\n",
              "         2.00383834e-01,  7.27197078e-03,  1.18458814e-02,\n",
              "         5.32620376e-01, -4.44089210e-16],\n",
              "       [ 2.92823328e-02,  8.06451613e-03,  3.05299539e-02,\n",
              "         9.79262673e-03,  2.88018433e-04,  1.31485480e-02,\n",
              "         8.03906334e-02,  7.91232441e-03,  1.37379358e-02,\n",
              "         6.71078504e-01,  1.16573418e-15]])"
            ]
          },
          "execution_count": 30,
          "metadata": {},
          "output_type": "execute_result"
        }
      ],
      "source": [
        "# Compute the centroids for K=5 clusters with 11 variables\n",
        "clusters5.cluster_centers_"
      ]
    },
    {
      "cell_type": "code",
      "execution_count": null,
      "id": "8090e009",
      "metadata": {
        "id": "8090e009",
        "outputId": "7d9eadc2-46c3-469b-8d84-ced7b8c8d9e0"
      },
      "outputs": [
        {
          "data": {
            "text/html": [
              "<div>\n",
              "<style scoped>\n",
              "    .dataframe tbody tr th:only-of-type {\n",
              "        vertical-align: middle;\n",
              "    }\n",
              "\n",
              "    .dataframe tbody tr th {\n",
              "        vertical-align: top;\n",
              "    }\n",
              "\n",
              "    .dataframe thead tr th {\n",
              "        text-align: left;\n",
              "    }\n",
              "</style>\n",
              "<table border=\"1\" class=\"dataframe\">\n",
              "  <thead>\n",
              "    <tr>\n",
              "      <th></th>\n",
              "      <th>clusters5_id</th>\n",
              "      <th>Balance</th>\n",
              "      <th>Qual_miles</th>\n",
              "      <th>cc1_miles</th>\n",
              "      <th>cc2_miles</th>\n",
              "      <th>cc3_miles</th>\n",
              "      <th>Bonus_miles</th>\n",
              "      <th>Bonus_trans</th>\n",
              "      <th>Flight_miles_12mo</th>\n",
              "      <th>Flight_trans_12</th>\n",
              "      <th>Days_since_enroll</th>\n",
              "      <th>Award?</th>\n",
              "    </tr>\n",
              "    <tr>\n",
              "      <th></th>\n",
              "      <th></th>\n",
              "      <th>mean</th>\n",
              "      <th>mean</th>\n",
              "      <th>mean</th>\n",
              "      <th>mean</th>\n",
              "      <th>mean</th>\n",
              "      <th>mean</th>\n",
              "      <th>mean</th>\n",
              "      <th>mean</th>\n",
              "      <th>mean</th>\n",
              "      <th>mean</th>\n",
              "      <th>mean</th>\n",
              "    </tr>\n",
              "  </thead>\n",
              "  <tbody>\n",
              "    <tr>\n",
              "      <th>0</th>\n",
              "      <td>0</td>\n",
              "      <td>33097.301357</td>\n",
              "      <td>94.131783</td>\n",
              "      <td>1.070736</td>\n",
              "      <td>1.016473</td>\n",
              "      <td>1.006783</td>\n",
              "      <td>3244.520349</td>\n",
              "      <td>6.173450</td>\n",
              "      <td>212.850775</td>\n",
              "      <td>0.603682</td>\n",
              "      <td>1992.402132</td>\n",
              "      <td>0.0</td>\n",
              "    </tr>\n",
              "    <tr>\n",
              "      <th>1</th>\n",
              "      <td>1</td>\n",
              "      <td>108317.387376</td>\n",
              "      <td>198.336634</td>\n",
              "      <td>3.915842</td>\n",
              "      <td>1.001238</td>\n",
              "      <td>1.025990</td>\n",
              "      <td>45609.657178</td>\n",
              "      <td>20.201733</td>\n",
              "      <td>713.728960</td>\n",
              "      <td>2.142327</td>\n",
              "      <td>4863.439356</td>\n",
              "      <td>1.0</td>\n",
              "    </tr>\n",
              "    <tr>\n",
              "      <th>2</th>\n",
              "      <td>2</td>\n",
              "      <td>83529.153046</td>\n",
              "      <td>290.453195</td>\n",
              "      <td>1.156018</td>\n",
              "      <td>1.032689</td>\n",
              "      <td>1.008915</td>\n",
              "      <td>8850.395245</td>\n",
              "      <td>10.476969</td>\n",
              "      <td>1030.112927</td>\n",
              "      <td>3.148588</td>\n",
              "      <td>4338.867756</td>\n",
              "      <td>1.0</td>\n",
              "    </tr>\n",
              "    <tr>\n",
              "      <th>3</th>\n",
              "      <td>3</td>\n",
              "      <td>118297.325243</td>\n",
              "      <td>73.467638</td>\n",
              "      <td>3.584142</td>\n",
              "      <td>1.001618</td>\n",
              "      <td>1.022654</td>\n",
              "      <td>31384.393204</td>\n",
              "      <td>17.233010</td>\n",
              "      <td>224.100324</td>\n",
              "      <td>0.627832</td>\n",
              "      <td>4419.553398</td>\n",
              "      <td>0.0</td>\n",
              "    </tr>\n",
              "    <tr>\n",
              "      <th>4</th>\n",
              "      <td>4</td>\n",
              "      <td>49921.633641</td>\n",
              "      <td>89.903226</td>\n",
              "      <td>1.122120</td>\n",
              "      <td>1.019585</td>\n",
              "      <td>1.001152</td>\n",
              "      <td>3467.074885</td>\n",
              "      <td>6.913594</td>\n",
              "      <td>243.834101</td>\n",
              "      <td>0.728111</td>\n",
              "      <td>5567.925115</td>\n",
              "      <td>0.0</td>\n",
              "    </tr>\n",
              "  </tbody>\n",
              "</table>\n",
              "</div>"
            ],
            "text/plain": [
              "  clusters5_id        Balance  Qual_miles cc1_miles cc2_miles cc3_miles  \\\n",
              "                         mean        mean      mean      mean      mean   \n",
              "0            0   33097.301357   94.131783  1.070736  1.016473  1.006783   \n",
              "1            1  108317.387376  198.336634  3.915842  1.001238  1.025990   \n",
              "2            2   83529.153046  290.453195  1.156018  1.032689  1.008915   \n",
              "3            3  118297.325243   73.467638  3.584142  1.001618  1.022654   \n",
              "4            4   49921.633641   89.903226  1.122120  1.019585  1.001152   \n",
              "\n",
              "    Bonus_miles Bonus_trans Flight_miles_12mo Flight_trans_12  \\\n",
              "           mean        mean              mean            mean   \n",
              "0   3244.520349    6.173450        212.850775        0.603682   \n",
              "1  45609.657178   20.201733        713.728960        2.142327   \n",
              "2   8850.395245   10.476969       1030.112927        3.148588   \n",
              "3  31384.393204   17.233010        224.100324        0.627832   \n",
              "4   3467.074885    6.913594        243.834101        0.728111   \n",
              "\n",
              "  Days_since_enroll Award?  \n",
              "               mean   mean  \n",
              "0       1992.402132    0.0  \n",
              "1       4863.439356    1.0  \n",
              "2       4338.867756    1.0  \n",
              "3       4419.553398    0.0  \n",
              "4       5567.925115    0.0  "
            ]
          },
          "execution_count": 31,
          "metadata": {},
          "output_type": "execute_result"
        }
      ],
      "source": [
        "# Group data by Clusters (K=5)\n",
        "air5.groupby('clusters5_id').agg(['mean']).reset_index()"
      ]
    },
    {
      "cell_type": "code",
      "execution_count": null,
      "id": "04fd74dc",
      "metadata": {
        "id": "04fd74dc",
        "outputId": "923671ca-073e-42d5-c685-dcdbb9447b98"
      },
      "outputs": [
        {
          "data": {
            "text/plain": [
              "<matplotlib.collections.PathCollection at 0x154431ab760>"
            ]
          },
          "execution_count": 32,
          "metadata": {},
          "output_type": "execute_result"
        },
        {
          "data": {
            "image/png": "[encoded data removed]",
            "text/plain": [
              "<Figure size 1000x700 with 1 Axes>"
            ]
          },
          "metadata": {},
          "output_type": "display_data"
        }
      ],
      "source": [
        "# Plot Clusters\n",
        "plt.figure(figsize=(10, 7))\n",
        "plt.scatter(air5['clusters5_id'],air5['Balance'], c=clusters5.labels_)"
      ]
    },
    {
      "cell_type": "markdown",
      "id": "3796496d",
      "metadata": {
        "id": "3796496d"
      },
      "source": [
        "# DBSCAN Clustering"
      ]
    },
    {
      "cell_type": "code",
      "execution_count": null,
      "id": "7ca8e37f",
      "metadata": {
        "id": "7ca8e37f"
      },
      "outputs": [],
      "source": [
        "from sklearn.cluster import DBSCAN\n",
        "from sklearn.preprocessing import StandardScaler"
      ]
    },
    {
      "cell_type": "code",
      "execution_count": null,
      "id": "486c575d",
      "metadata": {
        "id": "486c575d"
      },
      "outputs": [],
      "source": [
        "scaler = StandardScaler().fit(air2)\n",
        "air_norm = scaler.transform(air2)"
      ]
    },
    {
      "cell_type": "code",
      "execution_count": null,
      "id": "da3f09f0",
      "metadata": {
        "id": "da3f09f0",
        "outputId": "fc2814e2-feff-42dd-9afc-a1ea14fe12bf"
      },
      "outputs": [
        {
          "data": {
            "text/plain": [
              "DBSCAN(eps=0.82, min_samples=6)"
            ]
          },
          "execution_count": 73,
          "metadata": {},
          "output_type": "execute_result"
        }
      ],
      "source": [
        "# DBSCAN Clustering\n",
        "dbscan = DBSCAN(eps=0.82, min_samples=6)\n",
        "dbscan.fit(air_norm)"
      ]
    },
    {
      "cell_type": "code",
      "execution_count": null,
      "id": "aee536fc",
      "metadata": {
        "id": "aee536fc",
        "outputId": "959b158d-7d66-4128-9423-3f5a996fe011"
      },
      "outputs": [
        {
          "data": {
            "text/plain": [
              "array([0, 0, 0, ..., 1, 0, 0], dtype=int64)"
            ]
          },
          "execution_count": 74,
          "metadata": {},
          "output_type": "execute_result"
        }
      ],
      "source": [
        "#Noisy samples are given the label -1.\n",
        "dbscan.labels_"
      ]
    },
    {
      "cell_type": "code",
      "execution_count": null,
      "id": "8417df94",
      "metadata": {
        "id": "8417df94",
        "outputId": "e2270b25-01e0-442b-acf4-81f6d2711464"
      },
      "outputs": [
        {
          "data": {
            "text/plain": [
              "cluster_id\n",
              " 0            2222\n",
              " 1             956\n",
              "-1             801\n",
              " 2              13\n",
              " 3               7\n",
              "dtype: int64"
            ]
          },
          "execution_count": 75,
          "metadata": {},
          "output_type": "execute_result"
        }
      ],
      "source": [
        "a1 = pd.DataFrame(dbscan.labels_,columns=['cluster_id'])\n",
        "a1.value_counts()"
      ]
    }
  ],
  "metadata": {
    "kernelspec": {
      "display_name": "Python 3 (ipykernel)",
      "language": "python",
      "name": "python3"
    },
    "language_info": {
      "codemirror_mode": {
        "name": "ipython",
        "version": 3
      },
      "file_extension": ".py",
      "mimetype": "text/x-python",
      "name": "python",
      "nbconvert_exporter": "python",
      "pygments_lexer": "ipython3",
      "version": "3.9.13"
    },
    "colab": {
      "provenance": []
    }
  },
  "nbformat": 4,
  "nbformat_minor": 5
}